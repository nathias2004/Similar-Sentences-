{
 "cells": [
  {
   "cell_type": "markdown",
   "metadata": {},
   "source": [
    "# Setup"
   ]
  },
  {
   "cell_type": "code",
   "execution_count": 13,
   "metadata": {},
   "outputs": [
    {
     "name": "stdout",
     "output_type": "stream",
     "text": [
      "The autoreload extension is already loaded. To reload it, use:\n",
      "  %reload_ext autoreload\n"
     ]
    }
   ],
   "source": [
    "%load_ext autoreload\n",
    "%autoreload 2\n",
    "\n",
    "import pandas as pd\n",
    "import sklearn"
   ]
  },
  {
   "cell_type": "markdown",
   "metadata": {},
   "source": [
    "# Questions"
   ]
  },
  {
   "cell_type": "markdown",
   "metadata": {},
   "source": [
    "## Data visualisation\n",
    "\n",
    "* Use standard visualisation techniques to understand the ml.csv dataset"
   ]
  },
  {
   "cell_type": "code",
   "execution_count": 1,
   "metadata": {},
   "outputs": [
    {
     "name": "stdout",
     "output_type": "stream",
     "text": [
      "<bound method NDFrame.head of            x0        x1        x2        x3        x4        x5        x6  \\\n",
      "0    0.059856 -0.613184  2.322512  0.564453  0.564453 -1.537281  0.651346   \n",
      "1   -0.583660 -1.716858 -0.536196  1.132689  1.132689  3.363117 -0.344752   \n",
      "2    0.632819  0.754014  0.548169 -3.061347 -3.061347  1.723483 -1.107925   \n",
      "3    0.666025 -1.231859 -0.615159 -0.096564 -0.096564 -2.362081 -0.926052   \n",
      "4    0.059144 -0.159858  1.185429  1.675701  1.675701 -2.002485  0.718597   \n",
      "..        ...       ...       ...       ...       ...       ...       ...   \n",
      "995 -0.089335 -0.707953 -1.601152  3.344799  3.344799 -2.138397 -0.535857   \n",
      "996  0.796263 -0.544059  1.923068 -1.213895 -1.213895 -4.863790  0.970886   \n",
      "997  0.006266  0.677183  1.111781 -0.392983 -0.392983  0.757790 -0.678159   \n",
      "998 -0.598648 -1.018163 -0.892881  3.886200  3.886200  0.531769  1.616102   \n",
      "999 -0.731184 -1.105933  2.592094  0.478146  0.478146 -2.476153  0.023083   \n",
      "\n",
      "           x7        x8        x9  ...       x11       x12       x13  \\\n",
      "0    1.241025 -0.526630 -0.321259  ...  4.172215  0.896425 -2.137238   \n",
      "1   -6.147045  0.387888  0.225844  ... -3.368602  1.239733 -2.328327   \n",
      "2    0.843077 -1.004112  1.006515  ...  2.350002 -0.509790  1.014956   \n",
      "3   -3.724770 -1.291843  3.339638  ... -1.435194  0.822062 -0.863488   \n",
      "4    1.630679  0.734710  0.517748  ...  3.498812 -0.397651  1.153317   \n",
      "..        ...       ...       ...  ...       ...       ...       ...   \n",
      "995  0.765278 -0.358198 -1.660355  ... -6.017899 -0.324322  2.751492   \n",
      "996  1.883344  0.936753  2.859356  ...  2.827478  0.166317  1.350942   \n",
      "997  2.550552  1.084215  2.059497  ...  7.076757 -1.113223 -1.856685   \n",
      "998 -3.609442  0.030014 -3.064055  ... -6.795032 -0.222822  0.350625   \n",
      "999  1.984368  0.278978  1.658869  ...  5.387175 -1.519105  2.276860   \n",
      "\n",
      "          x14       x15       x16       x17       x18       x19  y  \n",
      "0   -0.524706 -0.182015 -3.541982  0.627917  2.322512  1.209449  0  \n",
      "1   -2.038456  0.152063  1.474279  0.085711 -0.536196 -0.910968  0  \n",
      "2   -0.133556 -1.280977  2.352125 -0.905258  0.548169 -0.424693  1  \n",
      "3    0.944573 -0.657542  0.061348  2.600972 -0.615159  1.216673  0  \n",
      "4   -0.866617  1.498591  0.581942 -2.246284  1.185429  3.011774  1  \n",
      "..        ...       ...       ...       ...       ...       ... ..  \n",
      "995  2.023106 -0.070720 -0.159242  0.070483 -1.601152 -1.010918  0  \n",
      "996  0.878975 -0.583111 -1.696265  1.597607  1.923068 -2.144857  0  \n",
      "997 -0.884620  0.804411 -0.729983 -4.613538  1.111781 -1.170473  1  \n",
      "998  2.252174 -0.596400 -0.230354 -0.547367 -0.892881  2.406903  1  \n",
      "999 -3.504439 -2.080188  2.059550 -0.875185  2.592094  1.786082  1  \n",
      "\n",
      "[1000 rows x 21 columns]>\n"
     ]
    }
   ],
   "source": [
    "import pandas as pd\n",
    "df = pd.read_csv('../data/ml.csv')\n",
    "print(df.head)"
   ]
  },
  {
   "cell_type": "code",
   "execution_count": 2,
   "metadata": {},
   "outputs": [
    {
     "data": {
      "text/plain": [
       "0    501\n",
       "1    499\n",
       "Name: y, dtype: int64"
      ]
     },
     "execution_count": 2,
     "metadata": {},
     "output_type": "execute_result"
    }
   ],
   "source": [
    "# finding the count of each class\n",
    "df[\"y\"].value_counts()"
   ]
  },
  {
   "cell_type": "code",
   "execution_count": 5,
   "metadata": {},
   "outputs": [
    {
     "name": "stdout",
     "output_type": "stream",
     "text": [
      "           x0        x1        x2        x3        x4        x5        x6  \\\n",
      "x0   1.000000 -0.049540  0.007413 -0.005705 -0.005705 -0.016650  0.022333   \n",
      "x1  -0.049540  1.000000 -0.039860 -0.052938 -0.052938  0.008249  0.010237   \n",
      "x2   0.007413 -0.039860  1.000000  0.135991  0.135991 -0.007987  0.001627   \n",
      "x3  -0.005705 -0.052938  0.135991  1.000000  1.000000 -0.105154 -0.002918   \n",
      "x4  -0.005705 -0.052938  0.135991  1.000000  1.000000 -0.105154 -0.002918   \n",
      "x5  -0.016650  0.008249 -0.007987 -0.105154 -0.105154  1.000000 -0.030201   \n",
      "x6   0.022333  0.010237  0.001627 -0.002918 -0.002918 -0.030201  1.000000   \n",
      "x7   0.022376  0.044216 -0.165043 -0.072065 -0.072065 -0.046705 -0.004996   \n",
      "x8   0.031395  0.075014  0.027992  0.034083  0.034083  0.001946  0.009716   \n",
      "x9   0.022463  0.008502  0.035532 -0.106951 -0.106951 -0.052355 -0.012347   \n",
      "x10  0.012997  0.006042 -0.219052 -0.556873 -0.556873  0.619836 -0.012314   \n",
      "x11 -0.001660  0.003005  0.356885 -0.295746 -0.295746 -0.204620  0.020824   \n",
      "x12 -0.042169 -0.013832 -0.028142 -0.045105 -0.045105  0.070359  0.001944   \n",
      "x13  0.043502  0.007267 -0.165190  0.000160  0.000160  0.037979 -0.036712   \n",
      "x14 -0.012832 -0.010499 -0.040079  0.168981  0.168981 -0.004662 -0.011017   \n",
      "x15  0.016147  0.003995  0.027103 -0.061948 -0.061948  0.018390 -0.031221   \n",
      "x16 -0.015466  0.003309 -0.158009 -0.237882 -0.237882 -0.068404 -0.008513   \n",
      "x17  0.002239  0.052198  0.046234 -0.068451 -0.068451 -0.064416 -0.002420   \n",
      "x18  0.007413 -0.039860  1.000000  0.135991  0.135991 -0.007987  0.001627   \n",
      "x19 -0.026821  0.008244 -0.023777  0.154034  0.154034  0.013418 -0.010665   \n",
      "y   -0.018433  0.053747 -0.303452  0.064257  0.064257 -0.170427  0.032894   \n",
      "\n",
      "           x7        x8        x9  ...       x11       x12       x13  \\\n",
      "x0   0.022376  0.031395  0.022463  ... -0.001660 -0.042169  0.043502   \n",
      "x1   0.044216  0.075014  0.008502  ...  0.003005 -0.013832  0.007267   \n",
      "x2  -0.165043  0.027992  0.035532  ...  0.356885 -0.028142 -0.165190   \n",
      "x3  -0.072065  0.034083 -0.106951  ... -0.295746 -0.045105  0.000160   \n",
      "x4  -0.072065  0.034083 -0.106951  ... -0.295746 -0.045105  0.000160   \n",
      "x5  -0.046705  0.001946 -0.052355  ... -0.204620  0.070359  0.037979   \n",
      "x6  -0.004996  0.009716 -0.012347  ...  0.020824  0.001944 -0.036712   \n",
      "x7   1.000000 -0.024891  0.172036  ...  0.450156  0.001929 -0.020024   \n",
      "x8  -0.024891  1.000000 -0.032698  ... -0.000595 -0.024127 -0.030105   \n",
      "x9   0.172036 -0.032698  1.000000  ...  0.363477  0.010911 -0.063871   \n",
      "x10 -0.128782 -0.016283  0.176341  ... -0.065481  0.058469  0.148262   \n",
      "x11  0.450156 -0.000595  0.363477  ...  1.000000 -0.002045 -0.565574   \n",
      "x12  0.001929 -0.024127  0.010911  ... -0.002045  1.000000  0.005772   \n",
      "x13 -0.020024 -0.030105 -0.063871  ... -0.565574  0.005772  1.000000   \n",
      "x14  0.055731  0.007087 -0.040048  ... -0.332128 -0.005954  0.037516   \n",
      "x15  0.023123  0.031086  0.018700  ...  0.043824 -0.001843 -0.019064   \n",
      "x16  0.007352 -0.010773 -0.047992  ...  0.123224  0.047759  0.041875   \n",
      "x17 -0.347788 -0.016685 -0.023688  ... -0.431774 -0.009381  0.093155   \n",
      "x18 -0.165043  0.027992  0.035532  ...  0.356885 -0.028142 -0.165190   \n",
      "x19 -0.128642 -0.004745  0.058498  ...  0.090782  0.007170  0.034461   \n",
      "y    0.268160  0.002116 -0.179284  ... -0.034368 -0.025336  0.089818   \n",
      "\n",
      "          x14       x15       x16       x17       x18       x19         y  \n",
      "x0  -0.012832  0.016147 -0.015466  0.002239  0.007413 -0.026821 -0.018433  \n",
      "x1  -0.010499  0.003995  0.003309  0.052198 -0.039860  0.008244  0.053747  \n",
      "x2  -0.040079  0.027103 -0.158009  0.046234  1.000000 -0.023777 -0.303452  \n",
      "x3   0.168981 -0.061948 -0.237882 -0.068451  0.135991  0.154034  0.064257  \n",
      "x4   0.168981 -0.061948 -0.237882 -0.068451  0.135991  0.154034  0.064257  \n",
      "x5  -0.004662  0.018390 -0.068404 -0.064416 -0.007987  0.013418 -0.170427  \n",
      "x6  -0.011017 -0.031221 -0.008513 -0.002420  0.001627 -0.010665  0.032894  \n",
      "x7   0.055731  0.023123  0.007352 -0.347788 -0.165043 -0.128642  0.268160  \n",
      "x8   0.007087  0.031086 -0.010773 -0.016685  0.027992 -0.004745  0.002116  \n",
      "x9  -0.040048  0.018700 -0.047992 -0.023688  0.035532  0.058498 -0.179284  \n",
      "x10 -0.319560  0.039614 -0.014662 -0.123400 -0.219052 -0.335903 -0.104037  \n",
      "x11 -0.332128  0.043824  0.123224 -0.431774  0.356885  0.090782 -0.034368  \n",
      "x12 -0.005954 -0.001843  0.047759 -0.009381 -0.028142  0.007170 -0.025336  \n",
      "x13  0.037516 -0.019064  0.041875  0.093155 -0.165190  0.034461  0.089818  \n",
      "x14  1.000000 -0.009921 -0.071165 -0.028813 -0.040079 -0.052162 -0.074486  \n",
      "x15 -0.009921  1.000000  0.005172 -0.000025  0.027103 -0.035944 -0.030941  \n",
      "x16 -0.071165  0.005172  1.000000 -0.107204 -0.158009 -0.079082 -0.020992  \n",
      "x17 -0.028813 -0.000025 -0.107204  1.000000  0.046234 -0.113325 -0.106202  \n",
      "x18 -0.040079  0.027103 -0.158009  0.046234  1.000000 -0.023777 -0.303452  \n",
      "x19 -0.052162 -0.035944 -0.079082 -0.113325 -0.023777  1.000000 -0.020046  \n",
      "y   -0.074486 -0.030941 -0.020992 -0.106202 -0.303452 -0.020046  1.000000  \n",
      "\n",
      "[21 rows x 21 columns]\n"
     ]
    }
   ],
   "source": [
    "# finding correlation between features helping us better identify which features are distinct\n",
    "corr_matrix = df.corr(method ='pearson')\n",
    "print(corr_matrix)"
   ]
  },
  {
   "cell_type": "code",
   "execution_count": 10,
   "metadata": {},
   "outputs": [
    {
     "name": "stdout",
     "output_type": "stream",
     "text": [
      "Std. Dev: \n",
      "x0     1.013009\n",
      "x1     1.029640\n",
      "x2     2.009109\n",
      "x3     1.978090\n",
      "x4     1.978090\n",
      "x5     2.107363\n",
      "x6     1.002618\n",
      "x7     2.202802\n",
      "x8     1.040565\n",
      "x9     1.988208\n",
      "x10    3.897085\n",
      "x11    3.731091\n",
      "x12    0.992347\n",
      "x13    1.981376\n",
      "x14    2.138400\n",
      "x15    0.972541\n",
      "x16    2.223097\n",
      "x17    2.009710\n",
      "x18    2.009109\n",
      "x19    1.990348\n",
      "y      0.500249\n",
      "dtype: float64\n",
      "\n",
      "\n",
      "\n",
      "\n",
      "\n",
      "\n",
      "Mean: \n",
      "x0    -0.033344\n",
      "x1    -0.023231\n",
      "x2    -0.395385\n",
      "x3     0.006166\n",
      "x4     0.006166\n",
      "x5     0.239333\n",
      "x6     0.030522\n",
      "x7    -0.421310\n",
      "x8     0.047228\n",
      "x9     0.171481\n",
      "x10    0.727083\n",
      "x11   -0.630073\n",
      "x12    0.015511\n",
      "x13   -0.395275\n",
      "x14    0.063600\n",
      "x15    0.014615\n",
      "x16    0.209988\n",
      "x17    0.387723\n",
      "x18   -0.395385\n",
      "x19   -0.539941\n",
      "y      0.499000\n",
      "dtype: float64\n",
      "\n",
      "\n",
      "\n",
      "\n",
      "\n",
      "\n",
      "x0      1.026187\n",
      "x1      1.060158\n",
      "x2      4.036520\n",
      "x3      3.912841\n",
      "x4      3.912841\n",
      "x5      4.440978\n",
      "x6      1.005243\n",
      "x7      4.852337\n",
      "x8      1.082776\n",
      "x9      3.952971\n",
      "x10    15.187275\n",
      "x11    13.921037\n",
      "x12     0.984752\n",
      "x13     3.925852\n",
      "x14     4.572755\n",
      "x15     0.945835\n",
      "x16     4.942159\n",
      "x17     4.038933\n",
      "x18     4.036520\n",
      "x19     3.961484\n",
      "y       0.250249\n",
      "dtype: float64\n"
     ]
    }
   ],
   "source": [
    "print('Std. Dev: ')\n",
    "print(df.std())\n",
    "print('\\n'*5)\n",
    "print('Mean: ')\n",
    "print(df.mean())\n",
    "print(\"\\n\"*5)\n",
    "print('Variance': )\n",
    "print(df.var())"
   ]
  },
  {
   "cell_type": "code",
   "execution_count": 36,
   "metadata": {},
   "outputs": [
    {
     "data": {
      "text/plain": [
       "{'whiskers': [<matplotlib.lines.Line2D at 0x16934d6ed00>,\n",
       "  <matplotlib.lines.Line2D at 0x16934e4c0a0>,\n",
       "  <matplotlib.lines.Line2D at 0x16934e344c0>,\n",
       "  <matplotlib.lines.Line2D at 0x16934e347f0>,\n",
       "  <matplotlib.lines.Line2D at 0x16934e3fb80>,\n",
       "  <matplotlib.lines.Line2D at 0x16934e3feb0>,\n",
       "  <matplotlib.lines.Line2D at 0x16934e2a250>,\n",
       "  <matplotlib.lines.Line2D at 0x16934e2a580>,\n",
       "  <matplotlib.lines.Line2D at 0x169363ca8e0>,\n",
       "  <matplotlib.lines.Line2D at 0x169363cac10>,\n",
       "  <matplotlib.lines.Line2D at 0x169363b1f70>,\n",
       "  <matplotlib.lines.Line2D at 0x169363ba2e0>,\n",
       "  <matplotlib.lines.Line2D at 0x169363c8640>,\n",
       "  <matplotlib.lines.Line2D at 0x169363c8970>,\n",
       "  <matplotlib.lines.Line2D at 0x16934e86cd0>,\n",
       "  <matplotlib.lines.Line2D at 0x16934e7e040>,\n",
       "  <matplotlib.lines.Line2D at 0x16934e5b3a0>,\n",
       "  <matplotlib.lines.Line2D at 0x16934e5b6d0>,\n",
       "  <matplotlib.lines.Line2D at 0x16934e83a30>,\n",
       "  <matplotlib.lines.Line2D at 0x16934e83d60>,\n",
       "  <matplotlib.lines.Line2D at 0x169360e8100>,\n",
       "  <matplotlib.lines.Line2D at 0x169360e8430>,\n",
       "  <matplotlib.lines.Line2D at 0x16936107790>,\n",
       "  <matplotlib.lines.Line2D at 0x16936107ac0>,\n",
       "  <matplotlib.lines.Line2D at 0x1693611be20>,\n",
       "  <matplotlib.lines.Line2D at 0x16936105190>,\n",
       "  <matplotlib.lines.Line2D at 0x169360e64f0>,\n",
       "  <matplotlib.lines.Line2D at 0x169360e6820>,\n",
       "  <matplotlib.lines.Line2D at 0x16934ea9b80>,\n",
       "  <matplotlib.lines.Line2D at 0x16934ea9eb0>,\n",
       "  <matplotlib.lines.Line2D at 0x16934e95250>,\n",
       "  <matplotlib.lines.Line2D at 0x16934e95580>,\n",
       "  <matplotlib.lines.Line2D at 0x16934ec98e0>,\n",
       "  <matplotlib.lines.Line2D at 0x16934ec9c10>,\n",
       "  <matplotlib.lines.Line2D at 0x16934ea0f70>,\n",
       "  <matplotlib.lines.Line2D at 0x1693614e2e0>,\n",
       "  <matplotlib.lines.Line2D at 0x16936127640>,\n",
       "  <matplotlib.lines.Line2D at 0x16936127970>,\n",
       "  <matplotlib.lines.Line2D at 0x16936158cd0>,\n",
       "  <matplotlib.lines.Line2D at 0x1693613d040>],\n",
       " 'caps': [<matplotlib.lines.Line2D at 0x16934e4c400>,\n",
       "  <matplotlib.lines.Line2D at 0x16934e4c760>,\n",
       "  <matplotlib.lines.Line2D at 0x16934e34b20>,\n",
       "  <matplotlib.lines.Line2D at 0x16934e34e50>,\n",
       "  <matplotlib.lines.Line2D at 0x16934e40220>,\n",
       "  <matplotlib.lines.Line2D at 0x16934e40550>,\n",
       "  <matplotlib.lines.Line2D at 0x16934e2a8b0>,\n",
       "  <matplotlib.lines.Line2D at 0x16934e2abe0>,\n",
       "  <matplotlib.lines.Line2D at 0x169363caf40>,\n",
       "  <matplotlib.lines.Line2D at 0x169363b12b0>,\n",
       "  <matplotlib.lines.Line2D at 0x169363ba610>,\n",
       "  <matplotlib.lines.Line2D at 0x169363ba940>,\n",
       "  <matplotlib.lines.Line2D at 0x169363c8ca0>,\n",
       "  <matplotlib.lines.Line2D at 0x169363c8fd0>,\n",
       "  <matplotlib.lines.Line2D at 0x16934e7e370>,\n",
       "  <matplotlib.lines.Line2D at 0x16934e7e6a0>,\n",
       "  <matplotlib.lines.Line2D at 0x16934e5ba00>,\n",
       "  <matplotlib.lines.Line2D at 0x16934e5bd30>,\n",
       "  <matplotlib.lines.Line2D at 0x16934e6e0d0>,\n",
       "  <matplotlib.lines.Line2D at 0x16934e6e400>,\n",
       "  <matplotlib.lines.Line2D at 0x169360e8760>,\n",
       "  <matplotlib.lines.Line2D at 0x169360e8a90>,\n",
       "  <matplotlib.lines.Line2D at 0x16936107df0>,\n",
       "  <matplotlib.lines.Line2D at 0x1693611b160>,\n",
       "  <matplotlib.lines.Line2D at 0x169361054c0>,\n",
       "  <matplotlib.lines.Line2D at 0x169361057f0>,\n",
       "  <matplotlib.lines.Line2D at 0x169360e6b50>,\n",
       "  <matplotlib.lines.Line2D at 0x169360e6e80>,\n",
       "  <matplotlib.lines.Line2D at 0x16934ecb220>,\n",
       "  <matplotlib.lines.Line2D at 0x16934ecb550>,\n",
       "  <matplotlib.lines.Line2D at 0x16934e958b0>,\n",
       "  <matplotlib.lines.Line2D at 0x16934e95be0>,\n",
       "  <matplotlib.lines.Line2D at 0x16934ec9f40>,\n",
       "  <matplotlib.lines.Line2D at 0x16934ea02b0>,\n",
       "  <matplotlib.lines.Line2D at 0x1693614e610>,\n",
       "  <matplotlib.lines.Line2D at 0x1693614e940>,\n",
       "  <matplotlib.lines.Line2D at 0x16936127ca0>,\n",
       "  <matplotlib.lines.Line2D at 0x16936127fd0>,\n",
       "  <matplotlib.lines.Line2D at 0x1693613d370>,\n",
       "  <matplotlib.lines.Line2D at 0x1693613d6a0>],\n",
       " 'boxes': [<matplotlib.lines.Line2D at 0x16934d6e9a0>,\n",
       "  <matplotlib.lines.Line2D at 0x16934e34190>,\n",
       "  <matplotlib.lines.Line2D at 0x16934e3f850>,\n",
       "  <matplotlib.lines.Line2D at 0x16934e40ee0>,\n",
       "  <matplotlib.lines.Line2D at 0x169363ca5b0>,\n",
       "  <matplotlib.lines.Line2D at 0x169363b1c40>,\n",
       "  <matplotlib.lines.Line2D at 0x169363c8310>,\n",
       "  <matplotlib.lines.Line2D at 0x16934e869a0>,\n",
       "  <matplotlib.lines.Line2D at 0x16934e5b070>,\n",
       "  <matplotlib.lines.Line2D at 0x16934e83700>,\n",
       "  <matplotlib.lines.Line2D at 0x16934e6ed90>,\n",
       "  <matplotlib.lines.Line2D at 0x16936107460>,\n",
       "  <matplotlib.lines.Line2D at 0x1693611baf0>,\n",
       "  <matplotlib.lines.Line2D at 0x169360e61c0>,\n",
       "  <matplotlib.lines.Line2D at 0x16934ea9850>,\n",
       "  <matplotlib.lines.Line2D at 0x16934ecbee0>,\n",
       "  <matplotlib.lines.Line2D at 0x16934ec95b0>,\n",
       "  <matplotlib.lines.Line2D at 0x16934ea0c40>,\n",
       "  <matplotlib.lines.Line2D at 0x16936127310>,\n",
       "  <matplotlib.lines.Line2D at 0x169361589a0>],\n",
       " 'medians': [<matplotlib.lines.Line2D at 0x16934e4cac0>,\n",
       "  <matplotlib.lines.Line2D at 0x16934e3f1f0>,\n",
       "  <matplotlib.lines.Line2D at 0x16934e40880>,\n",
       "  <matplotlib.lines.Line2D at 0x16934e2af10>,\n",
       "  <matplotlib.lines.Line2D at 0x169363b15e0>,\n",
       "  <matplotlib.lines.Line2D at 0x169363bac70>,\n",
       "  <matplotlib.lines.Line2D at 0x16934e86340>,\n",
       "  <matplotlib.lines.Line2D at 0x16934e7e9d0>,\n",
       "  <matplotlib.lines.Line2D at 0x16934e830a0>,\n",
       "  <matplotlib.lines.Line2D at 0x16934e6e730>,\n",
       "  <matplotlib.lines.Line2D at 0x169360e8dc0>,\n",
       "  <matplotlib.lines.Line2D at 0x1693611b490>,\n",
       "  <matplotlib.lines.Line2D at 0x16936105b20>,\n",
       "  <matplotlib.lines.Line2D at 0x16934ea91f0>,\n",
       "  <matplotlib.lines.Line2D at 0x16934ecb880>,\n",
       "  <matplotlib.lines.Line2D at 0x16934e95f10>,\n",
       "  <matplotlib.lines.Line2D at 0x16934ea05e0>,\n",
       "  <matplotlib.lines.Line2D at 0x1693614ec70>,\n",
       "  <matplotlib.lines.Line2D at 0x16936158340>,\n",
       "  <matplotlib.lines.Line2D at 0x1693613d9d0>],\n",
       " 'fliers': [<matplotlib.lines.Line2D at 0x16934e4ce20>,\n",
       "  <matplotlib.lines.Line2D at 0x16934e3f520>,\n",
       "  <matplotlib.lines.Line2D at 0x16934e40bb0>,\n",
       "  <matplotlib.lines.Line2D at 0x169363ca280>,\n",
       "  <matplotlib.lines.Line2D at 0x169363b1910>,\n",
       "  <matplotlib.lines.Line2D at 0x169363bafa0>,\n",
       "  <matplotlib.lines.Line2D at 0x16934e86670>,\n",
       "  <matplotlib.lines.Line2D at 0x16934e7ed00>,\n",
       "  <matplotlib.lines.Line2D at 0x16934e833d0>,\n",
       "  <matplotlib.lines.Line2D at 0x16934e6ea60>,\n",
       "  <matplotlib.lines.Line2D at 0x16936107130>,\n",
       "  <matplotlib.lines.Line2D at 0x1693611b7c0>,\n",
       "  <matplotlib.lines.Line2D at 0x16936105e50>,\n",
       "  <matplotlib.lines.Line2D at 0x16934ea9520>,\n",
       "  <matplotlib.lines.Line2D at 0x16934ecbbb0>,\n",
       "  <matplotlib.lines.Line2D at 0x16934ec9280>,\n",
       "  <matplotlib.lines.Line2D at 0x16934ea0910>,\n",
       "  <matplotlib.lines.Line2D at 0x1693614efa0>,\n",
       "  <matplotlib.lines.Line2D at 0x16936158670>,\n",
       "  <matplotlib.lines.Line2D at 0x1693613dd00>],\n",
       " 'means': []}"
      ]
     },
     "execution_count": 36,
     "metadata": {},
     "output_type": "execute_result"
    },
    {
     "data": {
      "image/png": "[encoded data removed]",
      "text/plain": [
       "<Figure size 432x288 with 1 Axes>"
      ]
     },
     "metadata": {
      "needs_background": "light"
     },
     "output_type": "display_data"
    }
   ],
   "source": [
    "import matplotlib.pyplot as plt\n",
    "data = []\n",
    "for i, key in enumerate(df):\n",
    "    if i==20:\n",
    "        break\n",
    "    data.append(df[key])\n",
    "plt.boxplot(data)\n",
    "\n"
   ]
  },
  {
   "cell_type": "code",
   "execution_count": null,
   "metadata": {},
   "outputs": [],
   "source": []
  },
  {
   "cell_type": "markdown",
   "metadata": {},
   "source": [
    "## Machine learning\n",
    "\n",
    "* Establish a reliable roc_auc metric for this data set using a cross validation technique to predict y from x using a random forest.\n"
   ]
  },
  {
   "cell_type": "code",
   "execution_count": 41,
   "metadata": {},
   "outputs": [],
   "source": [
    "from sklearn.model_selection import cross_val_score\n",
    "from sklearn.ensemble.forest import RandomForestClassifier\n",
    "from sklearn.feature_selection import SelectFromModel\n",
    "from sklearn.model_selection import train_test_split"
   ]
  },
  {
   "cell_type": "code",
   "execution_count": 45,
   "metadata": {},
   "outputs": [],
   "source": [
    "X = df.iloc[:, 0:20].values\n",
    "y = df.iloc[:, 20].values"
   ]
  },
  {
   "cell_type": "code",
   "execution_count": 47,
   "metadata": {},
   "outputs": [],
   "source": [
    "from sklearn.model_selection import train_test_split\n",
    "X_train, X_test, y_train, y_test = train_test_split(X, y, test_size=0.2, random_state=0)"
   ]
  },
  {
   "cell_type": "code",
   "execution_count": 43,
   "metadata": {},
   "outputs": [],
   "source": [
    "train, test = train_test_split(df, test_size=0.2)"
   ]
  },
  {
   "cell_type": "code",
   "execution_count": 48,
   "metadata": {},
   "outputs": [
    {
     "data": {
      "text/html": [
       "<div>\n",
       "<style scoped>\n",
       "    .dataframe tbody tr th:only-of-type {\n",
       "        vertical-align: middle;\n",
       "    }\n",
       "\n",
       "    .dataframe tbody tr th {\n",
       "        vertical-align: top;\n",
       "    }\n",
       "\n",
       "    .dataframe thead th {\n",
       "        text-align: right;\n",
       "    }\n",
       "</style>\n",
       "<table border=\"1\" class=\"dataframe\">\n",
       "  <thead>\n",
       "    <tr style=\"text-align: right;\">\n",
       "      <th></th>\n",
       "      <th>x0</th>\n",
       "      <th>x1</th>\n",
       "      <th>x2</th>\n",
       "      <th>x3</th>\n",
       "      <th>x4</th>\n",
       "      <th>x5</th>\n",
       "      <th>x6</th>\n",
       "      <th>x7</th>\n",
       "      <th>x8</th>\n",
       "      <th>x9</th>\n",
       "      <th>...</th>\n",
       "      <th>x11</th>\n",
       "      <th>x12</th>\n",
       "      <th>x13</th>\n",
       "      <th>x14</th>\n",
       "      <th>x15</th>\n",
       "      <th>x16</th>\n",
       "      <th>x17</th>\n",
       "      <th>x18</th>\n",
       "      <th>x19</th>\n",
       "      <th>y</th>\n",
       "    </tr>\n",
       "  </thead>\n",
       "  <tbody>\n",
       "    <tr>\n",
       "      <th>155</th>\n",
       "      <td>0.722305</td>\n",
       "      <td>-0.086976</td>\n",
       "      <td>-1.410162</td>\n",
       "      <td>3.010302</td>\n",
       "      <td>3.010302</td>\n",
       "      <td>-2.908984</td>\n",
       "      <td>-0.950755</td>\n",
       "      <td>0.569025</td>\n",
       "      <td>-0.471575</td>\n",
       "      <td>-0.635998</td>\n",
       "      <td>...</td>\n",
       "      <td>-2.526732</td>\n",
       "      <td>0.207096</td>\n",
       "      <td>1.205963</td>\n",
       "      <td>0.042410</td>\n",
       "      <td>1.029398</td>\n",
       "      <td>1.068237</td>\n",
       "      <td>0.527904</td>\n",
       "      <td>-1.410162</td>\n",
       "      <td>0.674124</td>\n",
       "      <td>1</td>\n",
       "    </tr>\n",
       "    <tr>\n",
       "      <th>992</th>\n",
       "      <td>-1.522954</td>\n",
       "      <td>-0.296855</td>\n",
       "      <td>-1.175696</td>\n",
       "      <td>3.162074</td>\n",
       "      <td>3.162074</td>\n",
       "      <td>0.009748</td>\n",
       "      <td>1.852291</td>\n",
       "      <td>-2.624109</td>\n",
       "      <td>-0.790954</td>\n",
       "      <td>3.006469</td>\n",
       "      <td>...</td>\n",
       "      <td>-1.236706</td>\n",
       "      <td>-1.951776</td>\n",
       "      <td>-4.462623</td>\n",
       "      <td>-1.103354</td>\n",
       "      <td>0.321459</td>\n",
       "      <td>-1.501651</td>\n",
       "      <td>2.514870</td>\n",
       "      <td>-1.175696</td>\n",
       "      <td>-1.982861</td>\n",
       "      <td>0</td>\n",
       "    </tr>\n",
       "    <tr>\n",
       "      <th>428</th>\n",
       "      <td>2.036348</td>\n",
       "      <td>-0.018707</td>\n",
       "      <td>-0.278959</td>\n",
       "      <td>-0.020377</td>\n",
       "      <td>-0.020377</td>\n",
       "      <td>-0.440557</td>\n",
       "      <td>-0.698697</td>\n",
       "      <td>0.442454</td>\n",
       "      <td>0.347518</td>\n",
       "      <td>2.772847</td>\n",
       "      <td>...</td>\n",
       "      <td>1.619093</td>\n",
       "      <td>0.753531</td>\n",
       "      <td>0.041163</td>\n",
       "      <td>-0.458431</td>\n",
       "      <td>-0.241678</td>\n",
       "      <td>0.034886</td>\n",
       "      <td>-1.437983</td>\n",
       "      <td>-0.278959</td>\n",
       "      <td>-1.810134</td>\n",
       "      <td>1</td>\n",
       "    </tr>\n",
       "    <tr>\n",
       "      <th>922</th>\n",
       "      <td>0.110945</td>\n",
       "      <td>0.464275</td>\n",
       "      <td>2.620303</td>\n",
       "      <td>1.849959</td>\n",
       "      <td>1.849959</td>\n",
       "      <td>-1.028880</td>\n",
       "      <td>0.471319</td>\n",
       "      <td>0.199481</td>\n",
       "      <td>-1.956407</td>\n",
       "      <td>1.996052</td>\n",
       "      <td>...</td>\n",
       "      <td>4.767890</td>\n",
       "      <td>-2.627425</td>\n",
       "      <td>-1.843197</td>\n",
       "      <td>1.978296</td>\n",
       "      <td>-1.513738</td>\n",
       "      <td>1.082232</td>\n",
       "      <td>-3.740277</td>\n",
       "      <td>2.620303</td>\n",
       "      <td>-0.448234</td>\n",
       "      <td>1</td>\n",
       "    </tr>\n",
       "    <tr>\n",
       "      <th>8</th>\n",
       "      <td>-1.577806</td>\n",
       "      <td>2.585791</td>\n",
       "      <td>-2.321250</td>\n",
       "      <td>0.278962</td>\n",
       "      <td>0.278962</td>\n",
       "      <td>-0.270277</td>\n",
       "      <td>-1.566031</td>\n",
       "      <td>-1.495401</td>\n",
       "      <td>-0.744040</td>\n",
       "      <td>-1.056380</td>\n",
       "      <td>...</td>\n",
       "      <td>-3.056876</td>\n",
       "      <td>1.997500</td>\n",
       "      <td>1.155608</td>\n",
       "      <td>-0.941438</td>\n",
       "      <td>-2.190603</td>\n",
       "      <td>1.934730</td>\n",
       "      <td>0.116357</td>\n",
       "      <td>-2.321250</td>\n",
       "      <td>1.250739</td>\n",
       "      <td>1</td>\n",
       "    </tr>\n",
       "  </tbody>\n",
       "</table>\n",
       "<p>5 rows × 21 columns</p>\n",
       "</div>"
      ],
      "text/plain": [
       "           x0        x1        x2        x3        x4        x5        x6  \\\n",
       "155  0.722305 -0.086976 -1.410162  3.010302  3.010302 -2.908984 -0.950755   \n",
       "992 -1.522954 -0.296855 -1.175696  3.162074  3.162074  0.009748  1.852291   \n",
       "428  2.036348 -0.018707 -0.278959 -0.020377 -0.020377 -0.440557 -0.698697   \n",
       "922  0.110945  0.464275  2.620303  1.849959  1.849959 -1.028880  0.471319   \n",
       "8   -1.577806  2.585791 -2.321250  0.278962  0.278962 -0.270277 -1.566031   \n",
       "\n",
       "           x7        x8        x9  ...       x11       x12       x13  \\\n",
       "155  0.569025 -0.471575 -0.635998  ... -2.526732  0.207096  1.205963   \n",
       "992 -2.624109 -0.790954  3.006469  ... -1.236706 -1.951776 -4.462623   \n",
       "428  0.442454  0.347518  2.772847  ...  1.619093  0.753531  0.041163   \n",
       "922  0.199481 -1.956407  1.996052  ...  4.767890 -2.627425 -1.843197   \n",
       "8   -1.495401 -0.744040 -1.056380  ... -3.056876  1.997500  1.155608   \n",
       "\n",
       "          x14       x15       x16       x17       x18       x19  y  \n",
       "155  0.042410  1.029398  1.068237  0.527904 -1.410162  0.674124  1  \n",
       "992 -1.103354  0.321459 -1.501651  2.514870 -1.175696 -1.982861  0  \n",
       "428 -0.458431 -0.241678  0.034886 -1.437983 -0.278959 -1.810134  1  \n",
       "922  1.978296 -1.513738  1.082232 -3.740277  2.620303 -0.448234  1  \n",
       "8   -0.941438 -2.190603  1.934730  0.116357 -2.321250  1.250739  1  \n",
       "\n",
       "[5 rows x 21 columns]"
      ]
     },
     "execution_count": 48,
     "metadata": {},
     "output_type": "execute_result"
    }
   ],
   "source": [
    "train.head()"
   ]
  },
  {
   "cell_type": "code",
   "execution_count": 66,
   "metadata": {},
   "outputs": [
    {
     "name": "stdout",
     "output_type": "stream",
     "text": [
      "[0.68125, 0.725, 0.7375, 0.76875, 0.7875]\n",
      "[0.71875, 0.7375, 0.7375, 0.76875, 0.775]\n",
      "[0.73125, 0.75625, 0.76875, 0.775, 0.8125]\n",
      "[0.725, 0.75625, 0.75625, 0.7625, 0.7875]\n",
      "[0.73125, 0.75625, 0.76875, 0.78125, 0.7875]\n"
     ]
    }
   ],
   "source": [
    "from sklearn.model_selection import cross_validate\n",
    "models = []\n",
    "for item in [5,10,20,25,30]:\n",
    "    clf = RandomForestClassifier(n_estimators=item, random_state=0)\n",
    "    cv_results = cross_validate(clf, X_train, y_train, cv=5)\n",
    "    scores = sorted(cv_results['test_score'])\n",
    "    models.append(clf)\n",
    "    print(scores)\n",
    "    "
   ]
  },
  {
   "cell_type": "code",
   "execution_count": 72,
   "metadata": {},
   "outputs": [],
   "source": [
    "models[2].fit(X_train, y_train)\n",
    "y_pred = models[2].predict(X_test)"
   ]
  },
  {
   "cell_type": "code",
   "execution_count": 80,
   "metadata": {},
   "outputs": [
    {
     "data": {
      "image/png": "[encoded data removed]",
      "text/plain": [
       "<Figure size 432x288 with 1 Axes>"
      ]
     },
     "metadata": {
      "needs_background": "light"
     },
     "output_type": "display_data"
    }
   ],
   "source": [
    "from sklearn.metrics import plot_roc_curve\n",
    "ax = plt.gca()\n",
    "rfc_disp = plot_roc_curve(models[2], X_test, y_test, ax=ax, alpha=0.8)\n",
    "plt.show()"
   ]
  },
  {
   "cell_type": "markdown",
   "metadata": {},
   "source": [
    "## Bonus\n",
    "\n",
    "* How would you verify the model has has established which features are important and those that are not."
   ]
  },
  {
   "cell_type": "code",
   "execution_count": 82,
   "metadata": {},
   "outputs": [
    {
     "name": "stdout",
     "output_type": "stream",
     "text": [
      "['x2' 'x7' 'x9' 'x10' 'x16' 'x18']\n"
     ]
    }
   ],
   "source": [
    "# Create a selector object that will use the random forest classifier to identify\n",
    "sfm = SelectFromModel(models[2])\n",
    "# Train the selector\n",
    "sfm.fit(X_train, y_train)\n",
    "features = df.columns.values[:-1]\n",
    "print(features[sfm.get_support()])"
   ]
  },
  {
   "cell_type": "code",
   "execution_count": null,
   "metadata": {},
   "outputs": [],
   "source": []
  }
 ],
 "metadata": {
  "kernelspec": {
   "display_name": "Python 3",
   "language": "python",
   "name": "python3"
  },
  "language_info": {
   "codemirror_mode": {
    "name": "ipython",
    "version": 3
   },
   "file_extension": ".py",
   "mimetype": "text/x-python",
   "name": "python",
   "nbconvert_exporter": "python",
   "pygments_lexer": "ipython3",
   "version": "3.8.5"
  }
 },
 "nbformat": 4,
 "nbformat_minor": 4
}
